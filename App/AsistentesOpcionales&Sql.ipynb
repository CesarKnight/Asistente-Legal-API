{
 "cells": [
  {
   "cell_type": "markdown",
   "id": "f0ef2075",
   "metadata": {},
   "source": [
    "### Asistente con Nodos de recuperacion de archivos opcionales y almacenamiento de vectores en sqlite"
   ]
  },
  {
   "cell_type": "code",
   "execution_count": 12,
   "id": "acca4ef7",
   "metadata": {},
   "outputs": [],
   "source": [
    "#segmentacion de docs\n",
    "from langchain_community.document_loaders import TextLoader\n",
    "from langchain_core.documents import Document\n",
    "from langchain_text_splitters import RecursiveCharacterTextSplitter\n",
    "\n",
    "#Vector store\n",
    "import sqlite3\n",
    "from langchain_community.vectorstores import SQLiteVec\n",
    "\n",
    "\n",
    "# llms\n",
    "from langchain_openai import ChatOpenAI\n",
    "from langchain_huggingface import HuggingFaceEmbeddings\n",
    "\n",
    "#Langgraph modules\n",
    "from langgraph.graph import START, StateGraph\n",
    "from langchain_core.prompts import PromptTemplate\n",
    "\n",
    "# python common modules\n",
    "from IPython.display import Image, display\n",
    "from typing_extensions import Annotated, List, TypedDict\n",
    "from typing import Literal\n",
    "from dotenv import load_dotenv\n",
    "from pathlib import Path\n",
    "\n",
    "import os\n",
    "\n",
    "load_dotenv()\n",
    "#\n",
    "\n",
    "base_dir = Path.cwd()\n",
    "leyes_dir = base_dir / \"leyes\"  # Adjust this path based on your actual directory structure\n",
    "\n",
    "# If leyes_dir doesn't exist, try going up one level\n",
    "if not leyes_dir.exists():\n",
    "    leyes_dir = base_dir.parent / \"leyes\""
   ]
  },
  {
   "cell_type": "markdown",
   "id": "63ca59c1",
   "metadata": {},
   "source": [
    "Cargamos el modelo de deepseek"
   ]
  },
  {
   "cell_type": "code",
   "execution_count": 13,
   "id": "7557fd8f",
   "metadata": {},
   "outputs": [],
   "source": [
    "openai_api_key = os.getenv(\"DEEPSEEK_API_KEY\")\n",
    "openai_base_url = os.getenv(\"DEEPSEEK_API_URL\")\n",
    "openai_model = os.getenv(\"LLM_MODEL\")\n",
    "\n",
    "# Crear una instancia del modelo ChatOpenAI\n",
    "llm = ChatOpenAI(\n",
    "    # base_url=openai_base_url,\n",
    "    # api_key=openai_api_key,\n",
    "    model= \"gpt-4o\",\n",
    "    temperature=0.5, \n",
    ")"
   ]
  },
  {
   "cell_type": "markdown",
   "id": "b009d0cb",
   "metadata": {},
   "source": [
    "Definir base de datos"
   ]
  },
  {
   "cell_type": "code",
   "execution_count": null,
   "id": "4cfa4da1",
   "metadata": {},
   "outputs": [],
   "source": [
    "db_path = base_dir / \"Database/leyes.db\"\n",
    "db_path.parent.mkdir(parents=True, exist_ok=True) \n",
    "\n",
    "db: sqlite3 = SQLiteVec.create_connection(db_path)\n",
    "\n",
    "embeddings = HuggingFaceEmbeddings(model_name=\"sentence-transformers/all-MiniLM-L6-v2\")  \n",
    "vector_store = SQLiteVec(\n",
    "    table=\"leyes\",\n",
    "    connection=db,\n",
    "    embedding=embeddings,\n",
    "    db_file=None,\n",
    ")   "
   ]
  },
  {
   "cell_type": "markdown",
   "id": "08fd2ed0",
   "metadata": {},
   "source": [
    "Cargar un documento"
   ]
  },
  {
   "cell_type": "code",
   "execution_count": 15,
   "id": "bb9d7d65",
   "metadata": {},
   "outputs": [],
   "source": [
    "def split_doc(file_path: str) -> List[Document] :\n",
    "    loader = TextLoader(file_path , encoding='utf-8')\n",
    "    leyes = loader.load()\n",
    "    \n",
    "    text_splitter = RecursiveCharacterTextSplitter(chunk_size=1000, chunk_overlap=200)\n",
    "    docs = text_splitter.split_documents(leyes)\n",
    "    \n",
    "    return docs"
   ]
  },
  {
   "cell_type": "markdown",
   "metadata": {},
   "source": [
    "Cargar documentos de transito a la base de datos"
   ]
  },
  {
   "cell_type": "code",
   "execution_count": 4,
   "metadata": {},
   "outputs": [
    {
     "name": "stdout",
     "output_type": "stream",
     "text": [
      "Adding e:\\Code\\Python\\Asistente-Legal-API\\App\\leyes\\1973-BO-COD-DL10135.txt to the vector store...\n",
      "Adding e:\\Code\\Python\\Asistente-Legal-API\\App\\leyes\\1978-BO-RE-RS187444(1).txt to the vector store...\n",
      "Adding e:\\Code\\Python\\Asistente-Legal-API\\App\\leyes\\2006-BO-DS-28710.txt to the vector store...\n",
      "Adding e:\\Code\\Python\\Asistente-Legal-API\\App\\leyes\\2008-BO-L-3988.txt to the vector store...\n",
      "Adding e:\\Code\\Python\\Asistente-Legal-API\\App\\leyes\\2010-BO-DS-N420.txt to the vector store...\n",
      "Adding e:\\Code\\Python\\Asistente-Legal-API\\App\\leyes\\2011-BO-L-N145.txt to the vector store...\n",
      "Adding e:\\Code\\Python\\Asistente-Legal-API\\App\\leyes\\2014-BO-DS-N2079.txt to the vector store...\n",
      "Adding e:\\Code\\Python\\Asistente-Legal-API\\App\\leyes\\2017-BO-DS-N3045.txt to the vector store...\n",
      "Adding e:\\Code\\Python\\Asistente-Legal-API\\App\\leyes\\2022-BO-DS-N4740.txt to the vector store...\n",
      "Adding e:\\Code\\Python\\Asistente-Legal-API\\App\\leyes\\2022-BO-DS-N4780.txt to the vector store...\n",
      "Adding e:\\Code\\Python\\Asistente-Legal-API\\App\\leyes\\2022-BO-DS-N4810.txt to the vector store...\n",
      "Adding e:\\Code\\Python\\Asistente-Legal-API\\App\\leyes\\2022-BO-DS-N4845.txt to the vector store...\n",
      "Adding e:\\Code\\Python\\Asistente-Legal-API\\App\\leyes\\Decreto supremo N 29293.txt to the vector store...\n",
      "Adding e:\\Code\\Python\\Asistente-Legal-API\\App\\leyes\\DECRETO SUPREMO N° 27295 DE 20 DE DICIEMBRE DE 2003.txt to the vector store...\n",
      "Adding e:\\Code\\Python\\Asistente-Legal-API\\App\\leyes\\RESOLUCION ADMINISTRATIVA N 63 -2006.txt to the vector store...\n"
     ]
    }
   ],
   "source": [
    "def add_doc_to_vector_db(vector_store: SQLiteVec, docs: List[Document]):\n",
    "    vector_store.add_documents(docs)\n",
    "    \n",
    "\n",
    "# Load all laws from the directory\n",
    "for file in os.listdir(leyes_dir):\n",
    "    file_path = os.path.join(leyes_dir, file)\n",
    "    print(f\"Adding {file_path} to the vector store...\")\n",
    "    if os.path.isfile(file_path) and file.endswith('.txt'):\n",
    "        docs = split_doc(file_path)\n",
    "        add_doc_to_vector_db(vector_store, docs)"
   ]
  },
  {
   "cell_type": "markdown",
   "id": "e22798b6",
   "metadata": {},
   "source": [
    "definimos el prompt a usar"
   ]
  },
  {
   "cell_type": "code",
   "execution_count": null,
   "id": "fdb7ac74",
   "metadata": {},
   "outputs": [],
   "source": [
    "template = \"\"\" Responde exclusivamente en español. \n",
    "Eres un asistente legal que puede responder preguntas sobre el \n",
    "reglamento de tránsito boliviano.\n",
    "Usa solamente información de la referencia para responder. \n",
    "En caso de que no encuentres la respuesta en la referencia, responde con \"No tengo información sobre eso\".\n",
    "En tu respuesta referencia el articulo que corresponda a tu respuesta.\n",
    "\n",
    "Usa la siguiente información como referencia: \n",
    "{context}\n",
    "\n",
    "Responde a la siguiente pregunta:\n",
    "{question}\n",
    "\n",
    "Helpful Answer:\"\"\"\n",
    "custom_rag_prompt = PromptTemplate.from_template(template)"
   ]
  },
  {
   "cell_type": "markdown",
   "id": "1ec0227d",
   "metadata": {},
   "source": [
    "Hacemos la recuperacion de documentos una herramienta para que sea opcionalmente llamado por el agente"
   ]
  },
  {
   "cell_type": "code",
   "execution_count": 22,
   "id": "abd81e5a",
   "metadata": {},
   "outputs": [],
   "source": [
    "from langchain_core.tools import tool\n",
    "\n",
    "numero_docs_recuperados: int  = 4\n",
    "\n",
    "@tool(response_format=\"content_and_artifact\")\n",
    "def recuperarDocs(query: str):\n",
    "    \"\"\"Retrieve information related to a query.\"\"\"\n",
    "    # Create a new connection each time the function is called\n",
    "    db_path_str = str(base_dir / \"Database/leyes.db\")\n",
    "    \n",
    "    # Create a new vector store with a new connection\n",
    "    vector_store = SQLiteVec(\n",
    "    table=\"leyes\",\n",
    "    connection=None,\n",
    "    embedding=embeddings,\n",
    "    db_file=db_path_str,\n",
    "    )   \n",
    "\n",
    "    retrieved_docs = vector_store.similarity_search(query, k=numero_docs_recuperados)\n",
    "    serialized = \"\\n\\n\".join(\n",
    "        (f\"Source: {doc.metadata}\\n\" f\"Content: {doc.page_content}\")\n",
    "        for doc in retrieved_docs\n",
    "    )\n",
    "    return serialized, retrieved_docs\n",
    "\n",
    "tools = [recuperarDocs]\n",
    "llm_with_tools = llm.bind_tools(tools)"
   ]
  },
  {
   "cell_type": "markdown",
   "id": "98259e18",
   "metadata": {},
   "source": [
    "Creamos el nodo donde se usará la herramienta"
   ]
  },
  {
   "cell_type": "code",
   "execution_count": 27,
   "id": "741748e1",
   "metadata": {},
   "outputs": [],
   "source": [
    "from langgraph.graph import MessagesState\n",
    "from langchain_core.messages import HumanMessage, SystemMessage\n",
    "\n",
    "# System message\n",
    "sys_msg = SystemMessage(\n",
    "   content=\"\"\"Responde exclusivamente en español. \n",
    "      Eres un asistente legal que puede responder preguntas sobre el reglamento de tránsito boliviano.\n",
    "      Usa solamente información de la referencia para responder. \n",
    "      En caso de que no encuentres la respuesta en la referencia, responde con \"No tengo información sobre eso\".\n",
    "      En tu respuesta referencia el articulo que corresponda a tu respuesta.\"\"\"\n",
    "   )\n",
    "\n",
    "# Node\n",
    "def recuperar_o_responder(state: MessagesState):\n",
    "   return {\"messages\": [llm_with_tools.invoke([sys_msg] + state[\"messages\"])]}"
   ]
  },
  {
   "cell_type": "markdown",
   "id": "40e6bb47",
   "metadata": {},
   "source": [
    "Definimos el grafo"
   ]
  },
  {
   "cell_type": "code",
   "execution_count": 28,
   "id": "ba2b4397",
   "metadata": {},
   "outputs": [
    {
     "data": {
      "image/png": "[encoded data removed]",
      "text/plain": [
       "<IPython.core.display.Image object>"
      ]
     },
     "metadata": {},
     "output_type": "display_data"
    }
   ],
   "source": [
    "from langgraph.graph import START, StateGraph\n",
    "from langgraph.prebuilt import tools_condition, ToolNode\n",
    "from IPython.display import Image, display\n",
    "\n",
    "# Graph\n",
    "grafo = StateGraph(MessagesState)\n",
    "\n",
    "# Define nodes: these do the work\n",
    "grafo.add_node(\"recuperar_o_responder\", recuperar_o_responder)\n",
    "grafo.add_node(\"tools\", ToolNode(tools)) # cargando la lista de herramientas\n",
    "\n",
    "# Define edges: these determine how the control flow moves\n",
    "grafo.add_edge(START, \"recuperar_o_responder\")\n",
    "grafo.add_conditional_edges(\n",
    "    \"recuperar_o_responder\",\n",
    "    tools_condition,\n",
    ")\n",
    "grafo.add_edge(\"tools\", \"recuperar_o_responder\")\n",
    "react_graph = grafo.compile()\n",
    "\n",
    "# Show\n",
    "display(Image(react_graph.get_graph(xray=True).draw_mermaid_png()))"
   ]
  },
  {
   "cell_type": "markdown",
   "id": "fd0c3ee6",
   "metadata": {},
   "source": [
    "Probamos con mensajes guardados"
   ]
  },
  {
   "cell_type": "code",
   "execution_count": 30,
   "id": "26df1d21",
   "metadata": {},
   "outputs": [
    {
     "name": "stdout",
     "output_type": "stream",
     "text": [
      "================================\u001b[1m Human Message \u001b[0m=================================\n",
      "\n",
      "existe una multa por circular sin brevet?\n",
      "==================================\u001b[1m Ai Message \u001b[0m==================================\n",
      "Tool Calls:\n",
      "  recuperarDocs (call_aZh8kvH1izkl3Djqn7mz8xaP)\n",
      " Call ID: call_aZh8kvH1izkl3Djqn7mz8xaP\n",
      "  Args:\n",
      "    query: multa por circular sin brevet en Bolivia\n",
      "=================================\u001b[1m Tool Message \u001b[0m=================================\n",
      "Name: recuperarDocs\n",
      "\n",
      "Source: {'source': 'e:\\\\Code\\\\Python\\\\Asistente-Legal-API\\\\App\\\\leyes\\\\1978-BO-RE-RS187444(1).txt'}\n",
      "Content: VEINTE PESOS BOLIVIANOS ($b. 20.-) de multa.\n",
      " 13. Por conducir vehículos sin portar la licencia brevet o autorización, con\n",
      "     VEINTE PESOS BOLIVIANOS ($b. 20.-) de multa.\n",
      " 14. Por conversar o distraer el pasajero al conductor de un vehículo de\n",
      "     servicio colectivo de pasajeros que está en marcha, con VEINTE PESOS\n",
      "     BOLIVIANOS ($b. 20.-) de multa.\n",
      " 15. Por negarse injustificadamente el usuario a cancelar la tarifa,\n",
      "     establecida, con VEINTE PESOS BOLIVIANOS ($b. 20.-) de multa.\n",
      " 16. Por obstaculizar el tránsito vehicular circulando a una velocidad\n",
      "     demasiado lenta, con TREINTA PESOS BOLIVIANOS ($b. 30.-) de multa\n",
      " 17. Por circular en las vías de doble sentido sobrepasando el eje central\n",
      "     demarcado o imaginario de la calzada, con VEINTE PESOS BOLIVIANOS ($b.\n",
      "     20.-) de multa.\n",
      " 18. Por salir del carril demarcado en los lugares prohibidos sin tomar las\n",
      "     precauciones necesarias, con TREINTA PESOS BOLIVIANOS ($b. 30.-) de multa.\n",
      "\n",
      "Source: {'source': 'e:\\\\Code\\\\Python\\\\Asistente-Legal-API\\\\App\\\\leyes\\\\1978-BO-RE-RS187444(1).txt'}\n",
      "Content: vehículo, con UN DIA DE ARRESTO.\n",
      " 45. Por no llevar los ómnibuses las luces interiores de reglamento, con VEINTE\n",
      "     PESOS BOLIVIANOS ($b. 20.-) de multa.\n",
      " 46. Por colocar en los vehículos de transporte colectivo de pasajeros sillas,\n",
      "     taburetes o asientos auxiliares no autorizados con el objeto de aumentar\n",
      "     indebidamente el número de pasajeros, con CINCUENTA PESOS BOLIVIANOS ($b.\n",
      "     50.-) de multa al propietario y un día de arresto.\n",
      " 47. Por entregar el conductor su licencia o brevet en prenda, con CINCUENTA\n",
      "     PESOS BOLIVIANOS ($b. 50.-) de multa.\n",
      " 48. Por sentar denuncia falsa, con CINCUENTA PESOS BOLIVIANOS ($b. 50.-) de\n",
      "     multa.\n",
      " 49. Por circular sin limpiaparabrisas con VEINTE PESOS BOLIVIANOS ($b. 20.-\n",
      "     ) de multa.\n",
      " 50. Por arrastrar o hacer rodar bultos por las aceras o calzadas con\n",
      "     manifiesta molestia para los viandantes o conductores de vehículos, con\n",
      "     VEINTE PESOS BOLIVIANOS ($b. 20.-) de multa.\n",
      "\n",
      "Source: {'source': 'e:\\\\Code\\\\Python\\\\Asistente-Legal-API\\\\App\\\\leyes\\\\1973-BO-COD-DL10135.txt'}\n",
      "Content: del presente Código, a los efectos de la circulación se aplicarán los Convenios\n",
      "y Tratados Internacionales suscritos por Bolivia,\n",
      "Artículo 199°.- (Vigencia)A partir del día de la vigencia de este Código quedan\n",
      "abrogadas todas las leyes y disposiciones contrarias.\n",
      "\n",
      "Source: {'source': 'e:\\\\Code\\\\Python\\\\Asistente-Legal-API\\\\App\\\\leyes\\\\1978-BO-RE-RS187444(1).txt'}\n",
      "Content: BOLIVIANOS ($b. 200.-) de multa.\n",
      " 14. Por circular con exceso de velocidad, con DOSCIENTOS PESOS BOLIVIANOS ($b.\n",
      "     200.-) de multa.\n",
      " 15. Por encandilar en los cruces, con QUINIENTOS PESOS BOLIVIANOS ($b. 500.-\n",
      "     ) . de multa.\n",
      " 16. Por circular contra ruta señalizada con CIEN PESOS BOLIVIANOS ($b. 100.-\n",
      "     ) de multa.\n",
      " 17. Por estacionar o detener el vehículo en la carretera en forma que haga\n",
      "     peligroso el tránsito, con CUATROCIENTOS PESOS BOLIVIANOS ($b. 400.-) dé\n",
      "     multa.\n",
      " 18. Por no colocar señales reglamentarias en los casos de estacionamiento o\n",
      "     detención obligada en plena carretera en caso de accidentes u otras\n",
      "     circunstancias de fuerza mayor con CUATROCIENTOS PESOS BOLIVIA NOS ($b.\n",
      "     400.-) de multa.\n",
      " 19. Por omitir las señales reglamentarias en el caso de transporte de cargas\n",
      "     peligrosas, con DOSCIENTOS PESOS BOLIVANOS ($b. 200.-) de multa.\n",
      " 20. Por instigar maliciosamente a la destrucción de vehículos, con DOSCIENTOS\n",
      "==================================\u001b[1m Ai Message \u001b[0m==================================\n",
      "\n",
      "Sí, en Bolivia existe una multa por conducir vehículos sin portar la licencia brevet o autorización. La multa es de veinte pesos bolivianos (Bs. 20.-) según el reglamento de tránsito. (Referencia: Artículo 13 del reglamento de tránsito).\n"
     ]
    }
   ],
   "source": [
    "messages = [HumanMessage(content=\"existe una multa por circular sin brevet?\")]\n",
    "messages = react_graph.invoke({\"messages\": messages})\n",
    "for m in messages['messages']:\n",
    "    m.pretty_print()"
   ]
  }
 ],
 "metadata": {
  "kernelspec": {
   "display_name": ".venv",
   "language": "python",
   "name": "python3"
  },
  "language_info": {
   "codemirror_mode": {
    "name": "ipython",
    "version": 3
   },
   "file_extension": ".py",
   "mimetype": "text/x-python",
   "name": "python",
   "nbconvert_exporter": "python",
   "pygments_lexer": "ipython3",
   "version": "3.13.2"
  }
 },
 "nbformat": 4,
 "nbformat_minor": 5
}
