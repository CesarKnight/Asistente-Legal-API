{
 "cells": [
  {
   "cell_type": "markdown",
   "id": "f0ef2075",
   "metadata": {},
   "source": [
    "### Asistente con Nodos de recuperacion de archivos opcionales y almacenamiento de vectores en sqlite"
   ]
  },
  {
   "cell_type": "code",
   "execution_count": 1,
   "id": "acca4ef7",
   "metadata": {},
   "outputs": [],
   "source": [
    "#segmentacion de docs\n",
    "from langchain_community.document_loaders import TextLoader\n",
    "from langchain_core.documents import Document\n",
    "from langchain_text_splitters import RecursiveCharacterTextSplitter\n",
    "\n",
    "#Vector store\n",
    "import sqlite3\n",
    "from langchain_community.vectorstores import SQLiteVec\n",
    "\n",
    "\n",
    "# llms\n",
    "from langchain_openai import ChatOpenAI\n",
    "from langchain_huggingface import HuggingFaceEmbeddings\n",
    "from langchain_openai.embeddings import OpenAIEmbeddings\n",
    "\n",
    "#Langgraph modules\n",
    "from langgraph.graph import START, StateGraph\n",
    "from langchain_core.prompts import PromptTemplate\n",
    "\n",
    "# python common modules\n",
    "from IPython.display import Image, display\n",
    "from typing_extensions import Annotated, List, TypedDict\n",
    "from typing import Literal\n",
    "from dotenv import load_dotenv\n",
    "from pathlib import Path\n",
    "\n",
    "import os\n",
    "\n",
    "load_dotenv()\n",
    "#\n",
    "\n",
    "base_dir = Path.cwd()\n",
    "leyes_dir = base_dir / \"leyes\"  # Adjust this path based on your actual directory structure\n",
    "\n",
    "# If leyes_dir doesn't exist, try going up one level\n",
    "if not leyes_dir.exists():\n",
    "    leyes_dir = base_dir.parent / \"leyes\""
   ]
  },
  {
   "cell_type": "markdown",
   "id": "63ca59c1",
   "metadata": {},
   "source": [
    "Cargamos el modelo"
   ]
  },
  {
   "cell_type": "code",
   "execution_count": 2,
   "id": "7557fd8f",
   "metadata": {},
   "outputs": [],
   "source": [
    "openai_api_key = os.getenv(\"DEEPSEEK_API_KEY\")\n",
    "openai_base_url = os.getenv(\"DEEPSEEK_API_URL\")\n",
    "openai_model = os.getenv(\"LLM_MODEL\")\n",
    "\n",
    "# Crear una instancia del modelo ChatOpenAI\n",
    "llm = ChatOpenAI(\n",
    "    # base_url=openai_base_url,\n",
    "    # api_key=openai_api_key,\n",
    "    model= \"gpt-4o\",\n",
    "    temperature=0.5, \n",
    ")"
   ]
  },
  {
   "cell_type": "markdown",
   "id": "e22798b6",
   "metadata": {},
   "source": [
    "definimos el prompt a usar"
   ]
  },
  {
   "cell_type": "code",
   "execution_count": 3,
   "id": "fdb7ac74",
   "metadata": {},
   "outputs": [],
   "source": [
    "template = \"\"\" Responde exclusivamente en español. \n",
    "Eres un asistente legal que puede responder preguntas sobre el \n",
    "reglamento de tránsito boliviano.\n",
    "Usa solamente información de la referencia para responder. \n",
    "En caso de que no encuentres la respuesta en la referencia, responde con \"No tengo información sobre eso\".\n",
    "En tu respuesta referencia el articulo que corresponda a tu respuesta.\n",
    "\n",
    "Usa la siguiente información como referencia: \n",
    "{context}\n",
    "\n",
    "Responde a la siguiente pregunta:\n",
    "{question}\n",
    "\n",
    "Helpful Answer:\"\"\"\n",
    "custom_rag_prompt = PromptTemplate.from_template(template)"
   ]
  },
  {
   "cell_type": "markdown",
   "id": "1ec0227d",
   "metadata": {},
   "source": [
    "Hacemos la recuperacion de documentos una herramienta para que sea opcionalmente llamado por el agente"
   ]
  },
  {
   "cell_type": "code",
   "execution_count": 4,
   "id": "abd81e5a",
   "metadata": {},
   "outputs": [
    {
     "name": "stderr",
     "output_type": "stream",
     "text": [
      "e:\\Code\\Python\\Asistente-Legal-API\\.venv\\Lib\\site-packages\\tqdm\\auto.py:21: TqdmWarning: IProgress not found. Please update jupyter and ipywidgets. See https://ipywidgets.readthedocs.io/en/stable/user_install.html\n",
      "  from .autonotebook import tqdm as notebook_tqdm\n"
     ]
    }
   ],
   "source": [
    "from langchain_core.tools import tool\n",
    "\n",
    "numero_docs_recuperados: int  = 4\n",
    "\n",
    "embeddings = HuggingFaceEmbeddings(\n",
    "    model_name=\"sentence-transformers/all-MiniLM-L6-v2\",\n",
    ")\n",
    "\n",
    "import json\n",
    "from pathlib import Path\n",
    "\n",
    "# Load categories dictionary\n",
    "with open(Path.cwd() / \"categorias_sinonimos_bolivia.json\", \"r\", encoding=\"utf-8\") as f:\n",
    "    categories_dict = json.load(f)\n",
    "    \n",
    "def categorize_text(text):\n",
    "    \"\"\"Tag text with categories based on term matches.\"\"\"\n",
    "    text_lower = text.lower()\n",
    "    matched_categories = set()\n",
    "    \n",
    "    for category, terms in categories_dict.items():\n",
    "        for term in terms:\n",
    "            if term.lower() in text_lower:\n",
    "                matched_categories.add(category)\n",
    "                break\n",
    "    \n",
    "    return list(matched_categories)\n",
    "\n",
    "@tool(response_format=\"content_and_artifact\")\n",
    "def recuperarDocs(query: str):\n",
    "    \"\"\"Retrieve information related to a query.\"\"\"\n",
    "    # Create a new connection each time the function is called\n",
    "    db_path_str = str(base_dir / \"Database/leyes.db\")\n",
    "    \n",
    "    query_categories = categorize_text(query)\n",
    "    \n",
    "    # Create a new vector store with a new connection\n",
    "    vector_store = SQLiteVec(\n",
    "    table=\"leyes\",\n",
    "    connection=None,\n",
    "    embedding=embeddings,\n",
    "    db_file=db_path_str,\n",
    "    )   \n",
    "\n",
    "    retrieved_docs = vector_store.similarity_search(query, k=numero_docs_recuperados)\n",
    "    \n",
    "     # Optional: You could re-rank docs based on category overlap\n",
    "    if query_categories:\n",
    "        retrieved_docs.sort(key=lambda doc: len(set(doc.metadata.get(\"categories\", [])) & \n",
    "                                             set(query_categories)), reverse=True)\n",
    "    \n",
    "    serialized = \"\\n\\n\".join(\n",
    "        (f\"Source: {doc.metadata}\\n\" f\"Content: {doc.page_content}\")\n",
    "        for doc in retrieved_docs\n",
    "    )\n",
    "    \n",
    "    serialized = \"\\n\\n\".join(\n",
    "        (f\"Source: {doc.metadata}\\n\" f\"Content: {doc.page_content}\")\n",
    "        for doc in retrieved_docs\n",
    "    )\n",
    "    return serialized, retrieved_docs\n",
    "\n",
    "tools = [recuperarDocs]\n",
    "llm_with_tools = llm.bind_tools(tools)"
   ]
  },
  {
   "cell_type": "markdown",
   "id": "98259e18",
   "metadata": {},
   "source": [
    "Creamos el nodo donde se usará la herramienta"
   ]
  },
  {
   "cell_type": "code",
   "execution_count": 5,
   "id": "741748e1",
   "metadata": {},
   "outputs": [],
   "source": [
    "from langgraph.graph import MessagesState\n",
    "from langchain_core.messages import HumanMessage, SystemMessage\n",
    "\n",
    "# System message\n",
    "sys_msg = SystemMessage(\n",
    "   content=\"\"\"Responde exclusivamente en español. \n",
    "      Eres un asistente legal que responde preguntas sobre el reglamento de tránsito boliviano.\n",
    "      Al usar la herrmaienta de recuperacion, haz el query con menor cantidad de tokens posible.\n",
    "      En caso de que no encuentres la respuesta en la referencia, responde con \"No tengo información sobre eso\".\n",
    "      En tu respuesta referencia el articulo que corresponda a tu respuesta.\"\"\"\n",
    "   )\n",
    "\n",
    "# Node\n",
    "def recuperar_o_responder(state: MessagesState):\n",
    "   return {\"messages\": [llm_with_tools.invoke([sys_msg] + state[\"messages\"])]}"
   ]
  },
  {
   "cell_type": "markdown",
   "id": "40e6bb47",
   "metadata": {},
   "source": [
    "Definimos el grafo"
   ]
  },
  {
   "cell_type": "code",
   "execution_count": 6,
   "id": "ba2b4397",
   "metadata": {},
   "outputs": [
    {
     "data": {
      "image/png": "[encoded data removed]",
      "text/plain": [
       "<IPython.core.display.Image object>"
      ]
     },
     "metadata": {},
     "output_type": "display_data"
    }
   ],
   "source": [
    "from langgraph.graph import START, StateGraph\n",
    "from langgraph.prebuilt import tools_condition, ToolNode\n",
    "from IPython.display import Image, display\n",
    "\n",
    "# Graph\n",
    "grafo = StateGraph(MessagesState)\n",
    "\n",
    "# Define nodes: these do the work\n",
    "grafo.add_node(\"recuperar_o_responder\", recuperar_o_responder)\n",
    "grafo.add_node(\"tools\", ToolNode(tools)) # cargando la lista de herramientas\n",
    "\n",
    "# Define edges: these determine how the control flow moves\n",
    "grafo.add_edge(START, \"recuperar_o_responder\")\n",
    "grafo.add_conditional_edges(\n",
    "    \"recuperar_o_responder\",\n",
    "    tools_condition,\n",
    ")\n",
    "grafo.add_edge(\"tools\", \"recuperar_o_responder\")\n",
    "react_graph = grafo.compile()\n",
    "\n",
    "# Show\n",
    "display(Image(react_graph.get_graph(xray=True).draw_mermaid_png()))"
   ]
  },
  {
   "cell_type": "markdown",
   "id": "fd0c3ee6",
   "metadata": {},
   "source": [
    "Probamos con mensajes guardados"
   ]
  },
  {
   "cell_type": "code",
   "execution_count": 7,
   "id": "26df1d21",
   "metadata": {},
   "outputs": [
    {
     "name": "stdout",
     "output_type": "stream",
     "text": [
      "================================\u001b[1m Human Message \u001b[0m=================================\n",
      "\n",
      "cual es la velocidad maxima permitida\n",
      "==================================\u001b[1m Ai Message \u001b[0m==================================\n",
      "Tool Calls:\n",
      "  recuperarDocs (call_awctiyv9eNRXQronU2ojGPtH)\n",
      " Call ID: call_awctiyv9eNRXQronU2ojGPtH\n",
      "  Args:\n",
      "    query: velocidad maxima permitida\n",
      "=================================\u001b[1m Tool Message \u001b[0m=================================\n",
      "Name: recuperarDocs\n",
      "\n",
      "Source: {'source': 'e:\\\\Code\\\\Python\\\\Asistente-Legal-API\\\\App\\\\leyes\\\\1978-BO-RE-RS187444(1).txt', 'categories': ['Vehículos', 'Velocidad', 'Justicia / Procedimiento', 'Pasajeros', 'Peatones', 'Policía / Tránsito']}\n",
      "Content: 1. Llevar mayor número de pasajeros que el permitido por la autoridad.\n",
      "  2. Cobrar una tarifa mayor a la legalmente autorizada.\n",
      "  3. Fumar, conversar o distraerse al conducir el vehículo.\n",
      "  4. Negarse a transportar estudiantes (escolares) o a los funcionarios de la\n",
      "     Policía de Tránsito.\n",
      "  5. Admitir en el vehículo individuos en manifiesto estado de ebriedad,\n",
      "     enfermos infecto-contagiosos, personas que ejerzan la mendicidad o\n",
      "     cualquier clase de comercio.\n",
      "  6. Admitir pasajeros que lleven bultos, canastos o paquetes, que por su\n",
      "     volumen o naturaleza, puedan ocasionar molestias a los demás pasajeros.\n",
      "  7. Permitir que los pasajeros vayan en las pisaderas o \"colgados\" del\n",
      "     vehículo.\n",
      "  8. Entablar competencias de velocidad o aumentar con el objeto de disputarse\n",
      "     los pasajeros o disminuirla, entorpeciendo la normal circulación de los\n",
      "     demás vehículos.\n",
      "  9. No respetar su línea de recorrido y cumplir caprichosamente el horario\n",
      "     establecido.\n",
      "\n",
      "Source: {'source': 'e:\\\\Code\\\\Python\\\\Asistente-Legal-API\\\\App\\\\leyes\\\\1978-BO-RE-RS187444(1).txt', 'categories': ['Vehículos', 'Velocidad', 'Normativa / Leyes', 'Infracciones', 'Policía / Tránsito']}\n",
      "Content: Capítulo VII\n",
      "De la velocidad\n",
      "\n",
      "Artículo 112°.- (Velocidades maximas y minimas)Por regla general ningún\n",
      "vehículo circulará a velocidades superiores o inferiores a las establecidas por\n",
      "la Policía del Tránsito.\n",
      "Artículo 113°.- (Velocidades maximas en radio urbano)Las velocidades máximas\n",
      "dentro del radio urbano de las ciudades y poblaciones son:\n",
      "\n",
      "Source: {'source': 'e:\\\\Code\\\\Python\\\\Asistente-Legal-API\\\\App\\\\leyes\\\\1978-BO-RE-RS187444(1).txt', 'categories': ['Vehículos', 'Pasajeros', 'Conductor', 'Normativa / Leyes', 'Infracciones', 'Transporte público']}\n",
      "Content: vehículos y el conductor y cobrador no deben permitirlo.\n",
      "Artículo 263°.- (Prohibicion)Prohíbese la utilización de estos ómnibuses para\n",
      "todo fin que no sea el transporte de pasajeros.\n",
      "Artículo 264°.- (Moneda fraccionaria)Los pasajeros que requieran los servicios\n",
      "de los ómnibuses de transporte urbano procurarán llevar el dinero en las\n",
      "unidades correspondientes al valor del pasaje.\n",
      "Artículo 265°.- (Antigüedad mínima del conductor)Los conductores de los\n",
      "ómnibuses de servicio urbano de transporte colectivo de pasajeros acreditarán\n",
      "buena salud, conducta intachable y una antigüedad mínima de tres años en el\n",
      "ejercicio de su profesión.\n",
      "\n",
      "Source: {'source': 'e:\\\\Code\\\\Python\\\\Asistente-Legal-API\\\\App\\\\leyes\\\\1978-BO-RE-RS187444(1).txt', 'categories': ['Vehículos', 'Licencias', 'Conductor', 'Normativa / Leyes', 'Infracciones', 'Peatones']}\n",
      "Content: Artículo 190°.- (Brevet o licencia )Está prohibido conducir vehículos\n",
      "motorizados sin el respectivo brevet o licencia o estando este documento caduco\n",
      "o cancelado. Es igualmente prohibido ceder el brevet o la licencia a terceras\n",
      "personas o permitir la conducción a personas que no estén legalmente\n",
      "autorizadas para hacerlo.\n",
      "Artículo 191°.- (Obligacion de portar el brevet o la licencia)Todo conductor de\n",
      "vehículo motorizado para conducir, llevará consigo obligatoriamente su brevet,\n",
      "licencia o autorización y al requerido por la autoridad, acreditará su\n",
      "identidad y exhibirá los documentos que lo habiliten para conducir\n",
      "Artículo 192°.- (Contrato de trabajo con personal sin brevet o licencia)Ningún\n",
      "propietario, entidad pública o privada o persona particular, podrá celebrar\n",
      "contratos de trabajo que impliquen la conducción de vehículos motorizados con\n",
      "personas que no posean brevet o licencia.\n",
      "Artículo 193°.- (Categoria del brevet o licencia)Con carácter general, todo\n",
      "==================================\u001b[1m Ai Message \u001b[0m==================================\n",
      "\n",
      "La velocidad máxima permitida dentro del radio urbano de las ciudades y poblaciones es establecida por la Policía del Tránsito. (Artículo 112° y 113°)\n"
     ]
    }
   ],
   "source": [
    "messages = [HumanMessage(content=\"cual es la velocidad maxima permitida\")]\n",
    "messages = react_graph.invoke({\"messages\": messages})\n",
    "for m in messages['messages']:\n",
    "    m.pretty_print()"
   ]
  }
 ],
 "metadata": {
  "kernelspec": {
   "display_name": ".venv",
   "language": "python",
   "name": "python3"
  },
  "language_info": {
   "codemirror_mode": {
    "name": "ipython",
    "version": 3
   },
   "file_extension": ".py",
   "mimetype": "text/x-python",
   "name": "python",
   "nbconvert_exporter": "python",
   "pygments_lexer": "ipython3",
   "version": "3.13.2"
  }
 },
 "nbformat": 4,
 "nbformat_minor": 5
}
