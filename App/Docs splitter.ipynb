{
 "cells": [
  {
   "cell_type": "markdown",
   "id": "86bc6c6c",
   "metadata": {},
   "source": [
    "### ESTO ES SOLO PARA CARGAR LOS DOCUMENTOS A UNA BASE DE SQLITE\n",
    "Vi que hay varios segmentos que literalmente solo tienen titulos asi que me la rifo y crearé una buena base de datos"
   ]
  },
  {
   "cell_type": "code",
   "execution_count": 1,
   "id": "3c14dccb",
   "metadata": {},
   "outputs": [],
   "source": [
    "#Vector store\n",
    "import sqlite3\n",
    "from langchain_community.vectorstores import SQLiteVec\n",
    "from langchain_community.document_loaders import TextLoader\n",
    "from langchain_core.documents import Document\n",
    "\n",
    "\n",
    "# llms\n",
    "from langchain_openai import ChatOpenAI\n",
    "from langchain_text_splitters import RecursiveCharacterTextSplitter\n",
    "from langchain_openai.embeddings import OpenAIEmbeddings\n",
    "from langchain_huggingface import HuggingFaceEmbeddings\n",
    "\n",
    "from typing_extensions import List\n",
    "from dotenv import load_dotenv\n",
    "from pathlib import Path\n",
    "\n",
    "import os\n",
    "\n",
    "load_dotenv()\n",
    "#\n",
    "\n",
    "base_dir = Path.cwd()\n",
    "leyes_dir = base_dir / \"leyes\"  # Adjust this path based on your actual directory structure\n",
    "\n",
    "# If leyes_dir doesn't exist, try going up one level\n",
    "if not leyes_dir.exists():\n",
    "    leyes_dir = base_dir.parent / \"leyes\"\n"
   ]
  },
  {
   "cell_type": "markdown",
   "id": "b2f2c941",
   "metadata": {},
   "source": [
    "Base"
   ]
  },
  {
   "cell_type": "code",
   "execution_count": 2,
   "id": "1078dab0",
   "metadata": {},
   "outputs": [],
   "source": [
    "import sqlite_vec\n",
    "\n",
    "db_path = base_dir / \"Database/leyes.db\"\n",
    "db_path.parent.mkdir(parents=True, exist_ok=True) \n",
    "\n",
    "embeddings = OpenAIEmbeddings(model=\"text-embedding-ada-002\")\n",
    "\n",
    "vector_store = SQLiteVec(\n",
    "    table=\"leyes\",\n",
    "    connection=None,\n",
    "    embedding=embeddings,\n",
    "    db_file=db_path,\n",
    ")   "
   ]
  },
  {
   "cell_type": "markdown",
   "id": "4243a47e",
   "metadata": {},
   "source": [
    "Cargar Documentos con OpenAI Embeddings y Segmentacion semantica FUCK IT"
   ]
  },
  {
   "cell_type": "code",
   "execution_count": 3,
   "id": "06e57078",
   "metadata": {},
   "outputs": [
    {
     "name": "stdout",
     "output_type": "stream",
     "text": [
      "Adding e:\\Code\\Python\\Asistente-Legal-API\\App\\leyes\\1973-BO-COD-DL10135.txt to the vector store...\n",
      "Adding e:\\Code\\Python\\Asistente-Legal-API\\App\\leyes\\1978-BO-RE-RS187444(1).txt to the vector store...\n",
      "Adding e:\\Code\\Python\\Asistente-Legal-API\\App\\leyes\\2006-BO-DS-28710.txt to the vector store...\n",
      "Adding e:\\Code\\Python\\Asistente-Legal-API\\App\\leyes\\2008-BO-L-3988.txt to the vector store...\n",
      "Adding e:\\Code\\Python\\Asistente-Legal-API\\App\\leyes\\2010-BO-DS-N420.txt to the vector store...\n",
      "Adding e:\\Code\\Python\\Asistente-Legal-API\\App\\leyes\\2011-BO-L-N145.txt to the vector store...\n",
      "Adding e:\\Code\\Python\\Asistente-Legal-API\\App\\leyes\\2014-BO-DS-N2079.txt to the vector store...\n",
      "Adding e:\\Code\\Python\\Asistente-Legal-API\\App\\leyes\\2017-BO-DS-N3045.txt to the vector store...\n",
      "Adding e:\\Code\\Python\\Asistente-Legal-API\\App\\leyes\\2022-BO-DS-N4740.txt to the vector store...\n",
      "Adding e:\\Code\\Python\\Asistente-Legal-API\\App\\leyes\\2022-BO-DS-N4780.txt to the vector store...\n",
      "Adding e:\\Code\\Python\\Asistente-Legal-API\\App\\leyes\\2022-BO-DS-N4810.txt to the vector store...\n",
      "Adding e:\\Code\\Python\\Asistente-Legal-API\\App\\leyes\\2022-BO-DS-N4845.txt to the vector store...\n",
      "Adding e:\\Code\\Python\\Asistente-Legal-API\\App\\leyes\\Decreto supremo N 29293.txt to the vector store...\n",
      "Adding e:\\Code\\Python\\Asistente-Legal-API\\App\\leyes\\DECRETO SUPREMO N° 27295 DE 20 DE DICIEMBRE DE 2003.txt to the vector store...\n",
      "Adding e:\\Code\\Python\\Asistente-Legal-API\\App\\leyes\\RESOLUCION ADMINISTRATIVA N 63 -2006.txt to the vector store...\n"
     ]
    }
   ],
   "source": [
    "import json\n",
    "from pathlib import Path\n",
    "\n",
    "# Load categories dictionary\n",
    "with open(Path.cwd() / \"categorias_sinonimos_bolivia.json\", \"r\", encoding=\"utf-8\") as f:\n",
    "    categories_dict = json.load(f)\n",
    "\n",
    "def categorize_text(text):\n",
    "    \"\"\"Tag text with categories based on term matches.\"\"\"\n",
    "    text_lower = text.lower()\n",
    "    matched_categories = set()\n",
    "    \n",
    "    for category, terms in categories_dict.items():\n",
    "        for term in terms:\n",
    "            if term.lower() in text_lower:\n",
    "                matched_categories.add(category)\n",
    "                break\n",
    "    \n",
    "    return list(matched_categories)\n",
    "\n",
    "def split_doc(file_path: str) -> List[Document]:\n",
    "    # Read the file to extract the title (first line)\n",
    "    with open(file_path, 'r', encoding='utf-8') as f:\n",
    "        first_line = f.readline().strip()\n",
    "        document_title = first_line if first_line else os.path.basename(file_path)\n",
    "    \n",
    "    # Continue with your existing loading process\n",
    "    loader = TextLoader(file_path, encoding='utf-8')\n",
    "    documento = loader.load()\n",
    "    \n",
    "    text_splitter = RecursiveCharacterTextSplitter(chunk_size=1000, chunk_overlap=200)\n",
    "    docs = text_splitter.split_documents(documento)\n",
    "    \n",
    "    # Add category tags and document title to metadata while preserving existing metadata\n",
    "    for doc in docs:\n",
    "        categories = categorize_text(doc.page_content)\n",
    "        # Ensure metadata exists\n",
    "        if doc.metadata is None:\n",
    "            doc.metadata = {}\n",
    "        \n",
    "        # Preserve the existing metadata and add the categories field\n",
    "        doc.metadata[\"categories\"] = categories\n",
    "        \n",
    "        # Add document title to metadata\n",
    "        doc.metadata[\"document_title\"] = document_title\n",
    "        \n",
    "        # Add source file info if not already present\n",
    "        if \"source\" not in doc.metadata:\n",
    "            doc.metadata[\"source\"] = os.path.basename(file_path)\n",
    "    \n",
    "    return docs\n",
    "\n",
    "def add_doc_to_vector_db(vector_store: SQLiteVec, docs: List[Document]):\n",
    "    vector_store.add_documents(docs)\n",
    "    \n",
    "# Load all laws from the directory\n",
    "for file in os.listdir(leyes_dir):\n",
    "    file_path = os.path.join(leyes_dir, file)\n",
    "    print(f\"Adding {file_path} to the vector store...\")\n",
    "    if os.path.isfile(file_path) and file.endswith('.txt'):\n",
    "        docs = split_doc(file_path)\n",
    "        add_doc_to_vector_db(vector_store, docs)"
   ]
  }
 ],
 "metadata": {
  "kernelspec": {
   "display_name": ".venv",
   "language": "python",
   "name": "python3"
  },
  "language_info": {
   "codemirror_mode": {
    "name": "ipython",
    "version": 3
   },
   "file_extension": ".py",
   "mimetype": "text/x-python",
   "name": "python",
   "nbconvert_exporter": "python",
   "pygments_lexer": "ipython3",
   "version": "3.13.2"
  }
 },
 "nbformat": 4,
 "nbformat_minor": 5
}
