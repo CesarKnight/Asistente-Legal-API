{
 "cells": [
  {
   "cell_type": "markdown",
   "id": "c1a0e29d",
   "metadata": {},
   "source": [
    "# ASISTENTE INTELIGENTE PARA CONSULTAS DE TRANSITO\n",
    "\n",
    "## Guía de pasos realizados para la creación del asistente\n",
    "\n",
    "1. Importamos las librerias necesarias"
   ]
  },
  {
   "cell_type": "code",
   "execution_count": null,
   "id": "7a319da7",
   "metadata": {},
   "outputs": [],
   "source": [
    "from typing import Literal\n",
    "\n",
    "from langchain import hub\n",
    "from langchain_community.document_loaders import TextLoader\n",
    "from langchain_core.documents import Document\n",
    "from langchain_core.vectorstores import InMemoryVectorStore\n",
    "from langchain_text_splitters import RecursiveCharacterTextSplitter\n",
    "from langgraph.graph import START, StateGraph\n",
    "from langchain_core.prompts import PromptTemplate\n",
    "from typing_extensions import Annotated, List, TypedDict\n",
    "from langchain_openai import ChatOpenAI\n",
    "from langchain_huggingface import HuggingFaceEmbeddings\n",
    "from IPython.display import Image, display\n",
    "from dotenv import load_dotenv\n",
    "from pathlib import Path\n",
    "\n",
    "import os\n",
    "\n",
    "load_dotenv()\n",
    "#\n",
    "\n",
    "base_dir = Path.cwd()\n",
    "leyes_dir = base_dir / \"leyes\"  # Adjust this path based on your actual directory structure\n",
    "\n",
    "# If leyes_dir doesn't exist, try going up one level\n",
    "if not leyes_dir.exists():\n",
    "    leyes_dir = base_dir.parent / \"leyes\"\n",
    "\n"
   ]
  },
  {
   "cell_type": "markdown",
   "id": "63ca59c1",
   "metadata": {},
   "source": [
    "Cargamos el modelo de deepseek"
   ]
  },
  {
   "cell_type": "code",
   "execution_count": 104,
   "id": "7557fd8f",
   "metadata": {},
   "outputs": [],
   "source": [
    "openai_api_key = os.getenv(\"DEEPSEEK_API_KEY\")\n",
    "openai_base_url = os.getenv(\"DEEPSEEK_API_URL\")\n",
    "openai_model = os.getenv(\"LLM_MODEL\")\n",
    "\n",
    "# Crear una instancia del modelo ChatOpenAI\n",
    "llm = ChatOpenAI(\n",
    "    base_url=openai_base_url,\n",
    "    api_key=openai_api_key,\n",
    "    model= openai_model,\n",
    "    temperature=0.5, \n",
    ")"
   ]
  },
  {
   "cell_type": "markdown",
   "id": "08fd2ed0",
   "metadata": {},
   "source": [
    "Cargar un documento"
   ]
  },
  {
   "cell_type": "code",
   "execution_count": 105,
   "id": "bb9d7d65",
   "metadata": {},
   "outputs": [],
   "source": [
    "def split_doc(file_path: str) -> List[Document] :\n",
    "    \n",
    "    # Gets directory where the current script is\n",
    "    loader = TextLoader(file_path , encoding='utf-8')\n",
    "    leyes = loader.load()\n",
    "    \n",
    "    text_splitter = RecursiveCharacterTextSplitter(chunk_size=1000, chunk_overlap=200)\n",
    "    docs = text_splitter.split_documents(leyes)\n",
    "    \n",
    "    return docs"
   ]
  },
  {
   "cell_type": "markdown",
   "id": "b009d0cb",
   "metadata": {},
   "source": [
    "Definir base de datos"
   ]
  },
  {
   "cell_type": "code",
   "execution_count": 106,
   "id": "4cfa4da1",
   "metadata": {},
   "outputs": [],
   "source": [
    "def crear_vector_db() -> InMemoryVectorStore:\n",
    "    embeddings = HuggingFaceEmbeddings(model_name=\"sentence-transformers/all-MiniLM-L6-v2\")  \n",
    "    vector_store = InMemoryVectorStore(embeddings)\n",
    "\n",
    "    return vector_store"
   ]
  },
  {
   "cell_type": "markdown",
   "metadata": {},
   "source": [
    "Cargar documentos de transito a la base de datos"
   ]
  },
  {
   "cell_type": "code",
   "execution_count": 107,
   "metadata": {},
   "outputs": [],
   "source": [
    "def add_doc_to_vector_db(vector_store: InMemoryVectorStore, docs: List[Document]):\n",
    "    vector_store.add_documents(docs)\n",
    "    \n",
    "def load_all_laws(vector_store: InMemoryVectorStore, leyes_dir: str):\n",
    "    # Load all laws from the directory\n",
    "    for file in os.listdir(leyes_dir):\n",
    "        file_path = os.path.join(leyes_dir, file)\n",
    "        if os.path.isfile(file_path) and file.endswith('.txt'):\n",
    "            docs = split_doc(file_path)\n",
    "            add_doc_to_vector_db(vector_store, docs)"
   ]
  },
  {
   "cell_type": "markdown",
   "id": "a8cb0eae",
   "metadata": {},
   "source": [
    "Defino el prompt a enviar a la ia y la estructura de prompt"
   ]
  },
  {
   "cell_type": "code",
   "execution_count": 108,
   "metadata": {},
   "outputs": [],
   "source": [
    "# Define schema for search\n",
    "class Search(TypedDict):\n",
    "    \"\"\"Search query.\"\"\"\n",
    "\n",
    "    query: Annotated[str, ..., \"Consulta de busqueda sobre leyes de transito boliviano para ejecutar, no es necesario nombrar bolivia.\"]\n",
    "    \n",
    "    \n",
    "template = \"\"\" Responde exclusivamente en español. \n",
    "Eres un asistente legal que puede responder preguntas sobre el \n",
    "reglamento de tránsito boliviano.\n",
    "Usa solamente información de la referencia para responder. \n",
    "En caso de que no encuentres la respuesta en la referencia, responde con \"No tengo información sobre eso\".\n",
    "En tu respuesta referencia el articulo que corresponda a tu respuesta.\n",
    "\n",
    "Usa la siguiente información como referencia: \n",
    "{context}\n",
    "\n",
    "Responde a la siguiente pregunta:\n",
    "{question}\n",
    "\n",
    "Helpful Answer:\"\"\"\n",
    "custom_rag_prompt = PromptTemplate.from_template(template)"
   ]
  },
  {
   "cell_type": "markdown",
   "metadata": {},
   "source": [
    "llamamos a las funciones para preparar la base de datos"
   ]
  },
  {
   "cell_type": "code",
   "execution_count": 109,
   "id": "fc7b13a7",
   "metadata": {},
   "outputs": [],
   "source": [
    "vector_store = crear_vector_db()\n",
    "load_all_laws(vector_store, leyes_dir)"
   ]
  },
  {
   "cell_type": "markdown",
   "metadata": {},
   "source": [
    "Definir los estados de langgraph\n"
   ]
  },
  {
   "cell_type": "code",
   "execution_count": null,
   "metadata": {},
   "outputs": [],
   "source": [
    "class State(TypedDict):\n",
    "    question: str\n",
    "    context: List[Document]\n",
    "    query: Search     \n",
    "    answer: str\n",
    "    system_message: str\n",
    "\n",
    "\n",
    "def analyze_query(state: State):\n",
    "    # reformula la preguntaaa\n",
    "    prompt = f\"\"\"\n",
    "    {state.get('system_message', 'Reformula la consulta para buscar información relevante.')}\n",
    "    \n",
    "    Tu tarea es reformular la siguiente consulta para buscar información relevante en una base de datos de leyes de tránsito.\n",
    "    No menciones a Bolivia en la consulta reformulada.\n",
    "    \n",
    "    Consulta original: {state[\"question\"]}\n",
    "    \n",
    "    Responde ÚNICAMENTE con un objeto JSON con el siguiente formato exacto:\n",
    "    {{\n",
    "        \"query\": \"consulta reformulada aquí\"\n",
    "    }}\n",
    "    \"\"\"\n",
    "    \n",
    "    structured_llm = llm.with_structured_output(Search)\n",
    "    query = structured_llm.invoke(prompt)\n",
    "    return {\"query\": query}\n",
    "\n",
    "def retrieve(state: State):\n",
    "    query = state[\"query\"]\n",
    "    retrieved_docs = vector_store.similarity_search(\n",
    "        query[\"query\"],\n",
    "        # state[\"question\"],\n",
    "    )\n",
    "    return {\"context\": retrieved_docs}\n",
    "\n",
    "\n",
    "def generate(state: State):\n",
    "    docs_content = \"\\n\\n\".join(doc.page_content for doc in state[\"context\"])\n",
    "    messages = custom_rag_prompt.invoke({\"question\": state[\"question\"], \"context\": docs_content})\n",
    "    response = llm.invoke(messages)\n",
    "    return {\"answer\": response.content}"
   ]
  },
  {
   "cell_type": "markdown",
   "metadata": {},
   "source": [
    "### Creando el Grafo de Estados"
   ]
  },
  {
   "cell_type": "code",
   "execution_count": 111,
   "metadata": {},
   "outputs": [],
   "source": [
    "graph_builder = StateGraph(State).add_sequence([\n",
    "    analyze_query,\n",
    "    retrieve, \n",
    "    generate\n",
    "    ])\n",
    "graph_builder.add_edge(START, \n",
    "                       \"analyze_query\"\n",
    "                    #    \"retrieve\"\n",
    "                       )\n",
    "graph = graph_builder.compile()"
   ]
  },
  {
   "cell_type": "code",
   "execution_count": 112,
   "metadata": {},
   "outputs": [
    {
     "data": {
      "image/png": "[encoded data removed]",
      "text/plain": [
       "<IPython.core.display.Image object>"
      ]
     },
     "metadata": {},
     "output_type": "display_data"
    }
   ],
   "source": [
    "display(Image(graph.get_graph().draw_mermaid_png()))"
   ]
  },
  {
   "cell_type": "markdown",
   "metadata": {},
   "source": [
    "Invocar al grafo"
   ]
  },
  {
   "cell_type": "code",
   "execution_count": 113,
   "metadata": {},
   "outputs": [
    {
     "name": "stdout",
     "output_type": "stream",
     "text": [
      "Context: [Document(id='bc191719-ab0f-48df-b940-c23f168dbc4a', metadata={'source': 'e:\\\\Code\\\\Python\\\\Asistente-Legal-API\\\\App\\\\leyes\\\\1978-BO-RE-RS187444(1).txt'}, page_content='1. En calzadas de tres carriles se debe por el de la derecha en cada uno de\\n     los sentidos, dejando el carril central para los adelantamientos.\\n  2. En calzadas de dos o más carriles en cada sentido, se circulará por los\\n     carriles más próximos al borde derecho dejando los de la izquierda para el\\n     adelantamiento.\\n  3. No se permitirá circular más de 200 metros paralelo al vehículo que se\\n     quiere adelantar. Una vez efectuada la maniobra de adelantamiento se\\n     deberá tomar nuevamente el carril de la derecha.\\n  4. Si el carril adyacente está ocupado no podrá efectuarse el cambio y el\\n     vehículo deberá continuar su marcha por su carril.'), Document(id='9df26e83-af5a-4001-8ff7-b660e25aff58', metadata={'source': 'e:\\\\Code\\\\Python\\\\Asistente-Legal-API\\\\App\\\\leyes\\\\1978-BO-RE-RS187444(1).txt'}, page_content='LIMITACION DE   Acto mediante el cual la autoridad limita el ingreso a una vía.\\nACCESO\\nLIMITACION DE   Restricción del tiempo que pueden permanecer estacionados los vehículos en ciertos\\nESTACIONAMIENTO lugares de la vía pública.\\nLINEA DE        Línea demarcada o imaginaria ubicada a no menos de un metro antes del paso de\\nDETENCION DE    peatones o franja de seguridad.\\nVEHICULOS\\nLINEA DE CARRIL Línea intermitente longitudinal pintada en el pavimento para demarcar la división\\n                de los carriles de una calzada.\\nMANIOBRA        Acción que altera las condiciones normales de la circulación.\\nPARADA          Lugar señalizado para la detención momentánea de los vehículos de locomoción\\n                colectiva con el sólo objeto de recoger o dejar pasajeros.\\nPARADERO        Lugar en las vías o fuera de ellas, donde los vehículo de servicio público pueden\\n                efectuar paradas largas ó esperas'), Document(id='f55afc90-f169-4e42-a478-2466978880b9', metadata={'source': 'e:\\\\Code\\\\Python\\\\Asistente-Legal-API\\\\App\\\\leyes\\\\1978-BO-RE-RS187444(1).txt'}, page_content='1. En los lugares prohibidos por la autoridad mediante las señales oficiales.\\n  2. En las paradas fijadas para los vehículos de servicio público (taxis,\\n     colectivos, etc.)\\n  3. En las aceras, pasos de peatones o lugares destinados exclusivamente al\\n     cruce de los mismos.\\n  4. Delante de los talleres mecánicos o garajes de tal modo que obstruyan la\\n     entrada o salida de los demás vehículos.\\n  5. En doble fila respecto a otro vehículo detenido o estacionado en la\\n     calzada.\\n  6. Al costado o al lado opuesto de cualquier obstrucción de la circulación,\\n     excavación o trabajos en una calzada.\\n  7. En las esquinas, cruces de caminos, puentes, alcantarillas, túneles, en\\n     las curvas, en la cumbre de una cuesta, con excepción de las detenciones\\n     obligadas por la circulación.\\n\\nArtículo 128°.- (Otras prohibiciones)Es igualmente prohibido estacionar:'), Document(id='b24dcca9-b0dc-441c-ac1c-3aa8507c443d', metadata={'source': 'e:\\\\Code\\\\Python\\\\Asistente-Legal-API\\\\App\\\\leyes\\\\1978-BO-RE-RS187444(1).txt'}, page_content='Artículo 114°.- (Velocidades maximas en caminos y carreteras)Las velocidades\\nmáximas en los caminos y carreteras situadas fuera de radio urbano de las\\nciudades y poblaciones son:\\n\\n  a. En las carreteras asfaltadas 80 kms. por hora.\\n  b. En los caminos y carreteras ripiadas o de tierra 70 kms. por hora.')]\n",
      "\n",
      "\n",
      "Answer: La velocidad máxima en carreteras asfaltadas, según el artículo 114°, es de **80 km/h**.\n"
     ]
    }
   ],
   "source": [
    "result = graph.invoke({\n",
    "    \"question\": \"cual es la velocidad maxima en carretera?\"\n",
    "})\n",
    "print(f'Context: {result[\"context\"]}\\n\\n')\n",
    "print(f'Answer: {result[\"answer\"]}')"
   ]
  }
 ],
 "metadata": {
  "kernelspec": {
   "display_name": ".venv",
   "language": "python",
   "name": "python3"
  },
  "language_info": {
   "codemirror_mode": {
    "name": "ipython",
    "version": 3
   },
   "file_extension": ".py",
   "mimetype": "text/x-python",
   "name": "python",
   "nbconvert_exporter": "python",
   "pygments_lexer": "ipython3",
   "version": "3.13.2"
  }
 },
 "nbformat": 4,
 "nbformat_minor": 5
}
