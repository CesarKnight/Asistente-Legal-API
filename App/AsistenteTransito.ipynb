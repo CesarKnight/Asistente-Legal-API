{
 "cells": [
  {
   "cell_type": "markdown",
   "id": "c1a0e29d",
   "metadata": {},
   "source": [
    "# ASISTENTE INTELIGENTE PARA CONSULTAS DE TRANSITO\n",
    "\n",
    "## Guía de pasos realizados para la creación del asistente\n",
    "\n",
    "1. Importamos las librerias necesarias"
   ]
  },
  {
   "cell_type": "code",
   "execution_count": 54,
   "id": "7a319da7",
   "metadata": {},
   "outputs": [],
   "source": [
    "from typing import Literal\n",
    "\n",
    "from langchain import hub\n",
    "from langchain_community.document_loaders import TextLoader\n",
    "from langchain_core.documents import Document\n",
    "from langchain_core.vectorstores import InMemoryVectorStore\n",
    "from langchain_text_splitters import RecursiveCharacterTextSplitter\n",
    "from langgraph.graph import START, StateGraph\n",
    "from langchain_core.prompts import PromptTemplate\n",
    "from typing_extensions import Annotated, List, TypedDict\n",
    "from langchain_openai import ChatOpenAI\n",
    "from langchain_huggingface import HuggingFaceEmbeddings\n",
    "from IPython.display import Image, display\n",
    "from dotenv import load_dotenv\n",
    "from pathlib import Path\n",
    "import os\n",
    "\n",
    "load_dotenv()\n",
    "#\n",
    "\n",
    "base_dir = Path.cwd()\n",
    "leyes_dir = base_dir / \"leyes\"  # Adjust this path based on your actual directory structure\n",
    "\n",
    "# If leyes_dir doesn't exist, try going up one level\n",
    "if not leyes_dir.exists():\n",
    "    leyes_dir = base_dir.parent / \"leyes\"\n",
    "\n"
   ]
  },
  {
   "cell_type": "markdown",
   "id": "63ca59c1",
   "metadata": {},
   "source": [
    "Cargamos el modelo de deepseek"
   ]
  },
  {
   "cell_type": "code",
   "execution_count": 55,
   "id": "7557fd8f",
   "metadata": {},
   "outputs": [],
   "source": [
    "openai_api_key = os.getenv(\"OPENAI_API_KEY\")\n",
    "# openai_base_url = os.getenv(\"DEEPSEEK_API_URL\")\n",
    "# openai_model = os.getenv(\"LLM_MODEL\")\n",
    "\n",
    "# Crear una instancia del modelo ChatOpenAI\n",
    "llm = ChatOpenAI(\n",
    "    model_name= \"gpt-4o-mini\",\n",
    "    temperature=0.5, \n",
    "    api_key=openai_api_key,\n",
    "    # base_url=openai_base_url,\n",
    ")   "
   ]
  },
  {
   "cell_type": "markdown",
   "id": "08fd2ed0",
   "metadata": {},
   "source": [
    "Cargar un documento"
   ]
  },
  {
   "cell_type": "code",
   "execution_count": 56,
   "id": "bb9d7d65",
   "metadata": {},
   "outputs": [],
   "source": [
    "def split_doc(file_path: str) -> List[Document] :\n",
    "    \n",
    "    # Gets directory where the current script is\n",
    "    loader = TextLoader(file_path , encoding='utf-8')\n",
    "    leyes = loader.load()\n",
    "    \n",
    "    text_splitter = RecursiveCharacterTextSplitter(chunk_size=1000, chunk_overlap=200)\n",
    "    docs = text_splitter.split_documents(leyes)\n",
    "    \n",
    "    return docs"
   ]
  },
  {
   "cell_type": "markdown",
   "id": "b009d0cb",
   "metadata": {},
   "source": [
    "Definir base de datos"
   ]
  },
  {
   "cell_type": "code",
   "execution_count": 57,
   "id": "4cfa4da1",
   "metadata": {},
   "outputs": [],
   "source": [
    "def crear_vector_db() -> InMemoryVectorStore:\n",
    "    embeddings = HuggingFaceEmbeddings(model_name=\"sentence-transformers/all-MiniLM-L6-v2\")  \n",
    "    vector_store = InMemoryVectorStore(embeddings)\n",
    "\n",
    "    return vector_store"
   ]
  },
  {
   "cell_type": "markdown",
   "metadata": {},
   "source": [
    "Cargar documentos de transito a la base de datos"
   ]
  },
  {
   "cell_type": "code",
   "execution_count": 58,
   "metadata": {},
   "outputs": [],
   "source": [
    "def add_doc_to_vector_db(vector_store: InMemoryVectorStore, docs: List[Document]):\n",
    "    vector_store.add_documents(docs)\n",
    "    \n",
    "def load_all_laws(vector_store: InMemoryVectorStore, leyes_dir: str):\n",
    "    # Load all laws from the directory\n",
    "    for file in os.listdir(leyes_dir):\n",
    "        file_path = os.path.join(leyes_dir, file)\n",
    "        if os.path.isfile(file_path) and file.endswith('.txt'):\n",
    "            docs = split_doc(file_path)\n",
    "            add_doc_to_vector_db(vector_store, docs)"
   ]
  },
  {
   "cell_type": "markdown",
   "id": "a8cb0eae",
   "metadata": {},
   "source": [
    "Defino el prompt a enviar a la ia y la estructura de prompt"
   ]
  },
  {
   "cell_type": "code",
   "execution_count": 91,
   "metadata": {},
   "outputs": [],
   "source": [
    "# Define schema for search\n",
    "class Search(TypedDict):\n",
    "    \"\"\"Search query.\"\"\"\n",
    "\n",
    "    query: Annotated[str, ..., \"Cons/ulta de busqueda sobre leyes de transito boliviano para ejecutar, no es necesario nombrar bolivia.\"]\n",
    "    \n",
    "    \n",
    "template = \"\"\" Responde exclusivamente en español. \n",
    "Eres un asistente legal que puede responder preguntas sobre el \n",
    "reglamento de tránsito boliviano.\n",
    "Usa solamente información de la referencia para responder. \n",
    "En caso de que no encuentres la respuesta en la referencia, responde con \"No tengo información sobre eso\".\n",
    "En tu respuesta referencia el articulo que corresponda a tu respuesta.\n",
    "\n",
    "Usa la siguiente información como referencia: {context}\n",
    "\n",
    "Responde a la siguiente pregunta: {question}\n",
    "\n",
    "Helpful Answer:\"\"\"\n",
    "custom_rag_prompt = PromptTemplate.from_template(template)"
   ]
  },
  {
   "cell_type": "markdown",
   "metadata": {},
   "source": [
    "llamamos a las funciones para preparar la base de datos"
   ]
  },
  {
   "cell_type": "code",
   "execution_count": 60,
   "id": "fc7b13a7",
   "metadata": {},
   "outputs": [],
   "source": [
    "vector_store = crear_vector_db()\n",
    "load_all_laws(vector_store, leyes_dir)"
   ]
  },
  {
   "cell_type": "markdown",
   "metadata": {},
   "source": [
    "Definir los estados de langgraph\n"
   ]
  },
  {
   "cell_type": "code",
   "execution_count": null,
   "metadata": {},
   "outputs": [],
   "source": [
    "class State(TypedDict):\n",
    "    question: str\n",
    "    context: List[Document]\n",
    "    query: Search\n",
    "    answer: str\n",
    "    system_message: str\n",
    "\n",
    "\n",
    "def analyze_query(state: State):\n",
    "    structured_llm = llm.with_structured_output(Search)\n",
    "    query = structured_llm.invoke(state[\"question\"])\n",
    "    return {\"query\": query}\n",
    "\n",
    "\n",
    "def retrieve(state: State):\n",
    "    query = state[\"query\"]\n",
    "    retrieved_docs = vector_store.similarity_search(\n",
    "        query[\"query\"],\n",
    "    )\n",
    "    return {\"context\": retrieved_docs}\n",
    "\n",
    "\n",
    "def generate(state: State):\n",
    "    docs_content = \"\\n\\n\".join(doc.page_content for doc in state[\"context\"])\n",
    "    messages = custom_rag_prompt.invoke({\"question\": state[\"question\"], \"context\": docs_content})\n",
    "    response = llm.invoke(messages)\n",
    "    return {\"answer\": response.content}"
   ]
  },
  {
   "cell_type": "markdown",
   "metadata": {},
   "source": [
    "### Creando el Grafo de Estados"
   ]
  },
  {
   "cell_type": "code",
   "execution_count": 97,
   "metadata": {},
   "outputs": [],
   "source": [
    "graph_builder = StateGraph(State).add_sequence([analyze_query, retrieve, generate])\n",
    "graph_builder.add_edge(START, \"analyze_query\")\n",
    "graph = graph_builder.compile()"
   ]
  },
  {
   "cell_type": "code",
   "execution_count": 98,
   "metadata": {},
   "outputs": [
    {
     "data": {
      "image/png": "[encoded data removed]",
      "text/plain": [
       "<IPython.core.display.Image object>"
      ]
     },
     "metadata": {},
     "output_type": "display_data"
    }
   ],
   "source": [
    "display(Image(graph.get_graph().draw_mermaid_png()))"
   ]
  },
  {
   "cell_type": "markdown",
   "metadata": {},
   "source": [
    "Invocar al grafo"
   ]
  },
  {
   "cell_type": "code",
   "execution_count": 99,
   "metadata": {},
   "outputs": [
    {
     "name": "stdout",
     "output_type": "stream",
     "text": [
      "Context: [Document(id='9ef44c2f-54fb-47fb-8101-41784cf69d00', metadata={'source': 'e:\\\\Code\\\\Python\\\\Asistente-Legal-API\\\\App\\\\leyes\\\\1978-BO-RE-RS187444(1).txt'}, page_content='Capítulo VII\\nDel procedimiento ante el juzgado del tránsito'), Document(id='3b913ff3-ae01-4361-afeb-d96373cb5f77', metadata={'source': 'e:\\\\Code\\\\Python\\\\Asistente-Legal-API\\\\App\\\\leyes\\\\reglamento_codigo_de_transito.txt'}, page_content='Capítulo VII\\nDel procedimiento ante el juzgado del tránsito'), Document(id='5d761b1e-0971-497b-aacd-16f6ed44f9f9', metadata={'source': 'e:\\\\Code\\\\Python\\\\Asistente-Legal-API\\\\App\\\\leyes\\\\1978-BO-RE-RS187444(1).txt'}, page_content=\"atenderá en la vía conciliatoria, con facultad para imponer sanciones, las\\ndemandas y reclamaciones de carácter civil a las que se refieren los artículos\\n175 y 176 del Código_de_Tránsito, a no ser que las partes hubieran señalado\\nvoluntariamente cláusulas penales (multas) sometiéndose expresamente a la\\njurisdicción y competencia de Tránsito caso en que se hará Cumplir\\nestrictamente el compromiso contraído ante la autoridad.\\nArtículo 411°.- (Robo, hurto, estafas)En los casos de robos, hurto de\\nvehículos, o estafas y engaños cometidos en la venta o con motivo de la\\nadministración, tenencia o trabajo con vehículos, repuestos o accesorios, la\\nPolicía de 'Tránsito procederá al levantamiento de las Diligencias de Policía\\nJudicial y remitirá obrados a Ministerio Público o al juez de la causa.\\nArtículo 412°.- (Accidentes con daños materiales)Los accidentes en los que se\\nhubieran ocasionado daños puramente materiales, sin daños a las personas, en\"), Document(id='60b41332-5529-484c-bf4d-74600267980b', metadata={'source': 'e:\\\\Code\\\\Python\\\\Asistente-Legal-API\\\\App\\\\leyes\\\\reglamento_codigo_de_transito.txt'}, page_content=\"atenderá en la vía conciliatoria, con facultad para imponer sanciones, las\\ndemandas y reclamaciones de carácter civil a las que se refieren los artículos\\n175 y 176 del Código_de_Tránsito, a no ser que las partes hubieran señalado\\nvoluntariamente cláusulas penales (multas) sometiéndose expresamente a la\\njurisdicción y competencia de Tránsito caso en que se hará Cumplir\\nestrictamente el compromiso contraído ante la autoridad.\\nArtículo 411°.- (Robo, hurto, estafas)En los casos de robos, hurto de\\nvehículos, o estafas y engaños cometidos en la venta o con motivo de la\\nadministración, tenencia o trabajo con vehículos, repuestos o accesorios, la\\nPolicía de 'Tránsito procederá al levantamiento de las Diligencias de Policía\\nJudicial y remitirá obrados a Ministerio Público o al juez de la causa.\\nArtículo 412°.- (Accidentes con daños materiales)Los accidentes en los que se\\nhubieran ocasionado daños puramente materiales, sin daños a las personas, en\")]\n",
      "\n",
      "\n",
      "Answer: No tengo información sobre eso.\n"
     ]
    }
   ],
   "source": [
    "result = graph.invoke({\n",
    "    \"question\": \"cuales es la velocidad maxima en carretera?\",\n",
    "    \"system_message\": \"Eres un asistente legal que responde preguntas sobre el reglamento de tránsito boliviano en bolivia, no menciones a bolivia en el query.\"\n",
    "})\n",
    "print(f'Context: {result[\"context\"]}\\n\\n')\n",
    "print(f'Answer: {result[\"answer\"]}')"
   ]
  }
 ],
 "metadata": {
  "kernelspec": {
   "display_name": ".venv",
   "language": "python",
   "name": "python3"
  },
  "language_info": {
   "codemirror_mode": {
    "name": "ipython",
    "version": 3
   },
   "file_extension": ".py",
   "mimetype": "text/x-python",
   "name": "python",
   "nbconvert_exporter": "python",
   "pygments_lexer": "ipython3",
   "version": "3.13.2"
  }
 },
 "nbformat": 4,
 "nbformat_minor": 5
}
